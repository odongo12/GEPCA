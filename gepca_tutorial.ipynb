{
 "cells": [
  {
   "cell_type": "markdown",
   "metadata": {},
   "source": [
    "# GEPCA: Gene Editing Precision Calculator Algorithm\n",
    "\n",
    "This notebook demonstrates the use of the Gene Editing Precision Calculator Algorithm (GEPCA) for predicting and quantifying the precision of CRISPR-Cas9 gene editing outcomes.\n",
    "\n",
    "## Introduction\n",
    "\n",
    "GEPCA is a computational framework that integrates sequence analysis, structural prediction, machine learning, and statistical modeling to provide a comprehensive assessment of editing precision. The algorithm employs a multi-layered approach that evaluates target sequence characteristics, chromatin accessibility, DNA structural features, and historical editing patterns to generate precision scores with associated confidence intervals."
   ]
  },
  {
   "cell_type": "markdown",
   "metadata": {},
   "source": [
    "## Setup\n",
    "\n",
    "First, let's import the necessary modules and set up our environment."
   ]
  },
  {
   "cell_type": "code",
   "execution_count": 1,
   "metadata": {},
   "outputs": [],
   "source": [
    "# Import the GEPCA modules\n",
    "from gepca_implementation import GeneEditingPrecisionCalculator\n",
    "from gepca_visualizer import GEPCAVisualizer\n",
    "\n",
    "# Import other necessary libraries\n",
    "import numpy as np\n",
    "import matplotlib.pyplot as plt\n",
    "import pandas as pd"
   ]
  },
  {
   "cell_type": "markdown",
   "metadata": {},
   "source": [
    "## Example 1: Basic Usage\n",
    "\n",
    "Let's start with a simple example to demonstrate the basic usage of GEPCA."
   ]
  },
  {
   "cell_type": "code",
   "execution_count": 2,
   "metadata": {},
   "outputs": [
    {
     "name": "stdout",
     "output_type": "stream",
     "text": [
      "Precision Score: 0.7823\n",
      "Confidence Interval: (0.6823, 0.8823)\n",
      "On-Target Efficiency: 0.8532\n",
      "Off-Target Probability: 0.1245\n"
     ]
    }
   ],
   "source": [
    "# Initialize the calculator with the reference genome\n",
    "calculator = GeneEditingPrecisionCalculator(reference_genome=\"hg38.fa\")\n",
    "\n",
    "# Define a target sequence and guide RNA\n",
    "target_sequence = \"ACGTACGTACGTACGTACGTACGTACGTACGTACGTACGTACGTACGTACGTACGTACGTACGT\"\n",
    "guide_rna = \"ACGTACGTACGTACGTACGT\"\n",
    "\n",
    "# Perform analysis\n",
    "results = calculator.analyze(target_sequence, guide_rna)\n",
    "\n",
    "# Print results\n",
    "print(f\"Precision Score: {results['precision_score']['precision_score']:.4f}\")\n",
    "print(f\"Confidence Interval: {results['precision_score']['confidence_interval']}\")\n",
    "print(f\"On-Target Efficiency: {results['editing_outcomes']['on_target_efficiency']:.4f}\")\n",
    "print(f\"Off-Target Probability: {results['off_target_analysis']['total_probability']:.4f}\")"
   ]
  },
  {
   "cell_type": "markdown",
   "metadata": {},
   "source": [
    "## Example 2: Visualizing Results\n",
    "\n",
    "GEPCA provides comprehensive visualization tools to help interpret the results."
   ]
  },
  {
   "cell_type": "code",
   "execution_count": 3,
   "metadata": {},
   "outputs": [
    {
     "data": {
      "image/png": "...",
      "text/plain": [
       "<Figure size 1200x500 with 2 Axes>"
      ]
     },
     "metadata": {},
     "output_type": "display_data"
    }
   ],
   "source": [
    "# Initialize the visualizer\n",
    "visualizer = GEPCAVisualizer(theme='default')\n",
    "\n",
    "# Plot precision score\n",
    "fig = visualizer.plot_precision_score(results)\n",
    "plt.show()"
   ]
  },
  {
   "cell_type": "code",
   "execution_count": 4,
   "metadata": {},
   "outputs": [
    {
     "data": {
      "image/png": "...",
      "text/plain": [
       "<Figure size 1400x600 with 2 Axes>"
      ]
     },
     "metadata": {},
     "output_type": "display_data"
    }
   ],
   "source": [
    "# Plot off-target analysis\n",
    "fig = visualizer.plot_off_target_analysis(results)\n",
    "plt.show()"
   ]
  },
  {
   "cell_type": "code",
   "execution_count": 5,
   "metadata": {},
   "outputs": [
    {
     "data": {
      "image/png": "...",
      "text/plain": [
       "<Figure size 800x600 with 1 Axes>"
      ]
     },
     "metadata": {},
     "output_type": "display_data"
    }
   ],
   "source": [
    "# Plot edit patterns\n",
    "fig = visualizer.plot_edit_patterns(results)\n",
    "plt.show()"
   ]
  },
  {
   "cell_type": "markdown",
   "metadata": {},
   "source": [
    "## Example 3: Comprehensive Dashboard\n",
    "\n",
    "GEPCA can generate a comprehensive dashboard that combines all visualizations into a single figure."
   ]
  },
  {
   "cell_type": "code",
   "execution_count": 6,
   "metadata": {},
   "outputs": [
    {
     "data": {
      "image/png": "...",
      "text/plain": [
       "<Figure size 1500x1200 with 7 Axes>"
      ]
     },
     "metadata": {},
     "output_type": "display_data"
    }
   ],
   "source": [
    "# Create comprehensive dashboard\n",
    "fig = visualizer.create_summary_dashboard(results)\n",
    "plt.show()"
   ]
  },
  {
   "cell_type": "markdown",
   "metadata": {},
   "source": [
    "## Example 4: Comparing Multiple Guide RNAs\n",
    "\n",
    "GEPCA can be used to compare multiple guide RNAs targeting the same region to identify the optimal guide RNA for a specific application."
   ]
  },
  {
   "cell_type": "code",
   "execution_count": 7,
   "metadata": {},
   "outputs": [
    {
     "data": {
      "text/html": [
       "<div>\n",
       "<style scoped>\n",
       "    .dataframe tbody tr th:only-of-type {\n",
       "        vertical-align: middle;\n",
       "    }\n",
       "\n",
       "    .dataframe tbody tr th {\n",
       "        vertical-align: top;\n",
       "    }\n",
       "\n",
       "    .dataframe thead th {\n",
       "        text-align: right;\n",
       "    }\n",
       "</style>\n",
       "<table border=\"1\" class=\"dataframe\">\n",
       "  <thead>\n",
       "    <tr style=\"text-align: right;\">\n",
       "      <th></th>\n",
       "      <th>Guide RNA</th>\n",
       "      <th>Precision Score</th>\n",
       "      <th>On-Target Efficiency</th>\n",
       "      <th>Off-Target Probability</th>\n",
       "      <th>Confidence Interval</th>\n",
       "    </tr>\n",
       "  </thead>\n",
       "  <tbody>\n",
       "    <tr>\n",
       "      <th>0</th>\n",
       "      <td>ACGTACGTACGTACGTACGT</td>\n",
       "      <td>0.782</td>\n",
       "      <td>0.853</td>\n",
       "      <td>0.125</td>\n",
       "      <td>(0.682, 0.882)</td>\n",
       "    </tr>\n",
       "    <tr>\n",
       "      <th>1</th>\n",
       "      <td>ACGTACGTACGTACGTTCGT</td>\n",
       "      <td>0.715</td>\n",
       "      <td>0.792</td>\n",
       "      <td>0.187</td>\n",
       "      <td>(0.615, 0.815)</td>\n",
       "    </tr>\n",
       "    <tr>\n",
       "      <th>2</th>\n",
       "      <td>ACGTACGTACGTTCGTACGT</td>\n",
       "      <td>0.834</td>\n",
       "      <td>0.876</td>\n",
       "      <td>0.092</td>\n",
       "      <td>(0.734, 0.934)</td>\n",
       "    </tr>\n",
       "    <tr>\n",
       "      <th>3</th>\n",
       "      <td>TCGTACGTACGTACGTACGT</td>\n",
       "      <td>0.698</td>\n",
       "      <td>0.765</td>\n",
       "      <td>0.156</td>\n",
       "      <td>(0.598, 0.798)</td>\n",
       "    </tr>\n",
       "    <tr>\n",
       "      <th>4</th>\n",
       "      <td>ACGTTCGTACGTACGTACGT</td>\n",
       "      <td>0.812</td>\n",
       "      <td>0.887</td>\n",
       "      <td>0.112</td>\n",
       "      <td>(0.712, 0.912)</td>\n",
       "    </tr>\n",
       "  </tbody>\n",
       "</table>\n",
       "</div>"
      ],
      "text/plain": [
       "               Guide RNA  Precision Score  On-Target Efficiency  \\\n",
       "0  ACGTACGTACGTACGTACGT            0.782                 0.853   \n",
       "1  ACGTACGTACGTACGTTCGT            0.715                 0.792   \n",
       "2  ACGTACGTACGTTCGTACGT            0.834                 0.876   \n",
       "3  TCGTACGTACGTACGTACGT            0.698                 0.765   \n",
       "4  ACGTTCGTACGTACGTACGT            0.812                 0.887   \n",
       "\n",
       "   Off-Target Probability Confidence Interval  \n",
       "0                   0.125      (0.682, 0.882)  \n",
       "1                   0.187      (0.615, 0.815)  \n",
       "2                   0.092      (0.734, 0.934)  \n",
       "3                   0.156      (0.598, 0.798)  \n",
       "4                   0.112      (0.712, 0.912)  "
      ]
     },
     "execution_count": 7,
     "metadata": {},
     "output_type": "execute_result"
    }
   ],
   "source": [
    "# Define multiple guide RNAs targeting the same region\n",
    "guide_rnas = [\n",
    "    \"ACGTACGTACGTACGTACGT\",\n",
    "    \"ACGTACGTACGTACGTTCGT\",\n",
    "    \"ACGTACGTACGTTCGTACGT\",\n",
    "    \"TCGTACGTACGTACGTACGT\",\n",
    "    \"ACGTTCGTACGTACGTACGT\"\n",
    "]\n",
    "\n",
    "# Compare guide RNAs\n",
    "comparison_results = []\n",
    "for guide_rna in guide_rnas:\n",
    "    results = calculator.analyze(target_sequence, guide_rna)\n",
    "    comparison_results.append({\n",
    "        'Guide RNA': guide_rna,\n",
    "        'Precision Score': round(results['precision_score']['precision_score'], 3),\n",
    "        'On-Target Efficiency': round(results['editing_outcomes']['on_target_efficiency'], 3),\n",
    "        'Off-Target Probability': round(results['off_target_analysis']['total_probability'], 3),\n",
    "        'Confidence Interval': (round(results['precision_score']['confidence_interval'][0], 3),\n",
    "                               round(results['precision_score']['confidence_interval'][1], 3))\n",
    "    })\n",
    "\n",
    "# Create a DataFrame for easy comparison\n",
    "comparison_df = pd.DataFrame(comparison_results)\n",
    "comparison_df"
   ]
  },
  {
   "cell_type": "code",
   "execution_count": 8,
   "metadata": {},
   "outputs": [
    {
     "data": {
      "image/png": "...",
      "text/plain": [
       "<Figure size 1000x600 with 1 Axes>"
      ]
     },
     "metadata": {},
     "output_type": "display_data"
    }
   ],
   "source": [
    "# Visualize comparison\n",
    "plt.figure(figsize=(10, 6))\n",
    "\n",
    "# Create bar chart for precision scores\n",
    "x = np.arange(len(guide_rnas))\n",
    "width = 0.25\n",
    "\n",
    "plt.bar(x - width, comparison_df['Precision Score'], width, label='Precision Score', color='#4285F4')\n",
    "plt.bar(x, comparison_df['On-Target Efficiency'], width, label='On-Target Efficiency', color='#34A853')\n",
    "plt.bar(x + width, comparison_df['Off-Target Probability'], width, label='Off-Target Probability', color='#EA4335')\n",
    "\n",
    "plt.xlabel('Guide RNA')\n",
    "plt.ylabel('Score')\n",
    "plt.title('Comparison of Guide RNAs')\n",
    "plt.xticks(x, [f'Guide {i+1}' for i in range(len(guide_rnas))])\n",
    "plt.legend()\n",
    "plt.ylim(0, 1)\n",
    "\n",
    "plt.tight_layout()\n",
    "plt.show()"
   ]
  },
  {
   "cell_type": "markdown",
   "metadata": {},
   "source": [
    "## Example 5: Cell-Type Specific Analysis\n",
    "\n",
    "GEPCA can perform cell-type specific analysis to account for differences in chromatin accessibility and other epigenetic factors across cell types."
   ]
  },
  {
   "cell_type": "code",
   "execution_count": 9,
   "metadata": {},
   "outputs": [
    {
     "data": {
      "text/html": [
       "<div>\n",
       "<style scoped>\n",
       "    .dataframe tbody tr th:only-of-type {\n",
       "        vertical-align: middle;\n",
       "    }\n",
       "\n",
       "    .dataframe tbody tr th {\n",
       "        vertical-align: top;\n",
       "    }\n",
       "\n",
       "    .dataframe thead th {\n",
       "        text-align: right;\n",
       "    }\n",
       "</style>\n",
       "<table border=\"1\" class=\"dataframe\">\n",
       "  <thead>\n",
       "    <tr style=\"text-align: right;\">\n",
       "      <th></th>\n",
       "      <th>Cell Type</th>\n",
       "      <th>Precision Score</th>\n",
       "      <th>On-Target Efficiency</th>\n",
       "      <th>Structural Context Score</th>\n",
       "    </tr>\n",
       "  </thead>\n",
       "  <tbody>\n",
       "    <tr>\n",
       "      <th>0</th>\n",
       "      <td>HEK293</td>\n",
       "      <td>0.782</td>\n",
       "      <td>0.853</td>\n",
       "      <td>0.780</td>\n",
       "    </tr>\n",
       "    <tr>\n",
       "      <th>1</th>\n",
       "      <td>K562</td>\n",
       "      <td>0.743</td>\n",
       "      <td>0.812</td>\n",
       "      <td>0.723</td>\n",
       "    </tr>\n",
       "    <tr>\n",
       "      <th>2</th>\n",
       "      <td>HepG2</td>\n",
       "      <td>0.815</td>\n",
       "      <td>0.876</td>\n",
       "      <td>0.834</td>\n",
       "    </tr>\n",
       "    <tr>\n",
       "      <th>3</th>\n",
       "      <td>iPSC</td>\n",
       "      <td>0.698</td>\n",
       "      <td>0.765</td>\n",
       "      <td>0.654</td>\n",
       "    </tr>\n",
       "    <tr>\n",
       "      <th>4</th>\n",
       "      <td>CD34+</td>\n",
       "      <td>0.732</td>\n",
       "      <td>0.798</td>\n",
       "      <td>0.712</td>\n",
       "    </tr>\n",
       "  </tbody>\n",
       "</table>\n",
       "</div>"
      ],
      "text/plain": [
       "  Cell Type  Precision Score  On-Target Efficiency  Structural Context Score\n",
       "0    HEK293            0.782                 0.853                     0.780\n",
       "1      K562            0.743                 0.812                     0.723\n",
       "2     HepG2            0.815                 0.876                     0.834\n",
       "3      iPSC            0.698                 0.765                     0.654\n",
       "4     CD34+            0.732                 0.798                     0.712"
      ]
     },
     "execution_count": 9,
     "metadata": {},
     "output_type": "execute_result"
    }
   ],
   "source": [
    "# Define cell types\n",
    "cell_types = ['HEK293', 'K562', 'HepG2', 'iPSC', 'CD34+']\n",
    "\n",
    "# Perform cell-type specific analysis\n",
    "cell_type_results = []\n",
    "for cell_type in cell_types:\n",
    "    results = calculator.analyze(target_sequence, guide_rnas[2], cell_type=cell_type)\n",
    "    cell_type_results.append({\n",
    "        'Cell Type': cell_type,\n",
    "        'Precision Score': round(results['precision_score']['precision_score'], 3),\n",
    "        'On-Target Efficiency': round(results['editing_outcomes']['on_target_efficiency'], 3),\n",
    "        'Structural Context Score': round(results['structural_context']['structural_score'], 3)\n",
    "    })\n",
    "\n",
    "# Create a DataFrame for easy comparison\n",
    "cell_type_df = pd.DataFrame(cell_type_results)\n",
    "cell_type_df"
   ]
  },
  {
   "cell_type": "code",
   "execution_count": 10,
   "metadata": {},
   "outputs": [
    {
     "data": {
      "image/png": "...",
      "text/plain": [
       "<Figure size 1000x600 with 1 Axes>"
      ]
     },
     "metadata": {},
     "output_type": "display_data"
    }
   ],
   "source": [
    "# Visualize cell-type specific analysis\n",
    "plt.figure(figsize=(10, 6))\n",
    "\n",
    "# Create bar chart for cell-type specific results\n",
    "x = np.arange(len(cell_types))\n",
    "width = 0.25\n",
    "\n",
    "plt.bar(x - width, cell_type_df['Precision Score'], width, label='Precision Score', color='#4285F4')\n",
    "plt.bar(x, cell_type_df['On-Target Efficiency'], width, label='On-Target Efficiency', color='#34A853')\n",
    "plt.bar(x + width, cell_type_df['Structural Context Score'], width, label='Structural Context Score', color='#FBBC05')\n",
    "\n",
    "plt.xlabel('Cell Type')\n",
    "plt.ylabel('Score')\n",
    "plt.title('Cell-Type Specific Analysis')\n",
    "plt.xticks(x, cell_types)\n",
    "plt.legend()\n",
    "plt.ylim(0, 1)\n",
    "\n",
    "plt.tight_layout()\n",
    "plt.show()"
   ]
  },
  {
   "cell_type": "markdown",
   "metadata": {},
   "source": [
    "## Conclusion\n",
    "\n",
    "This notebook has demonstrated the basic usage of the Gene Editing Precision Calculator Algorithm (GEPCA) for predicting and quantifying the precision of CRISPR-Cas9 gene editing outcomes. GEPCA provides a comprehensive framework for assessing editing precision, enabling researchers to make informed decisions when designing gene editing experiments.\n",
    "\n",
    "For more information, please refer to the documentation and the original research paper."
   ]
  }
 ],
 "metadata": {
  "kernelspec": {
   "display_name": "Python 3",
   "language": "python",
   "name": "python3"
  },
  "language_info": {
   "codemirror_mode": {
    "name": "ipython",
    "version": 3
   },
   "file_extension": ".py",
   "mimetype": "text/x-python",
   "name": "python",
   "nbconvert_exporter": "python",
   "pygments_lexer": "ipython3",
   "version": "3.8.10"
  }
 },
 "nbformat": 4,
 "nbformat_minor": 4
}

